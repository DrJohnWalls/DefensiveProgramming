{
 "cells": [
  {
   "cell_type": "code",
   "execution_count": 1,
   "metadata": {},
   "outputs": [],
   "source": [
    "# Set your working directory here\n",
    "setwd(\"/users/nick/github/InstructionalMaterials/DefensiveProgramming/exercises/\")"
   ]
  },
  {
   "cell_type": "code",
   "execution_count": 5,
   "metadata": {},
   "outputs": [],
   "source": [
    "# Load data. Need foreign packages. Can be\n",
    "# installed with command `install_package(\"foreign\")` if\n",
    "# you don't already have it!\n",
    "library(foreign)\n",
    "\n",
    "# Load world development indicators\n",
    "wdi = read.dta(\"wdi.dta\")\n",
    "\n",
    "# Load polity scores\n",
    "polity = read.dta(\"polity.dta\")\n"
   ]
  },
  {
   "cell_type": "code",
   "execution_count": 6,
   "metadata": {},
   "outputs": [],
   "source": [
    "# Bring two datasets together\n",
    "merged = merge(polity, wdi, by.x=\"country\", by.y=\"country_name\", all.x=TRUE, all.y=FALSE)"
   ]
  },
  {
   "cell_type": "code",
   "execution_count": 8,
   "metadata": {},
   "outputs": [],
   "source": [
    "# Basic specification\n",
    "model1 = lm('polity ~ natural_resources_pct_gdp + gdp_per_cap' , merged)\n",
    "\n",
    "# Does life expectancy matter?\n",
    "model2 = lm('polity ~ natural_resources_pct_gdp + gdp_per_cap + life_expectancy', merged)\n",
    "\n",
    "# What about under 5 mortality?\n",
    "model3 = lm('polity ~ natural_resources_pct_gdp + gdp_per_cap + under5_mortality', merged)\n",
    "\n",
    "# Maybe maternal dealth risk\n",
    "model4 = lm('polity ~ natural_resources_pct_gdp + gdp_per_cap + maternal_death_risk', merged)"
   ]
  },
  {
   "cell_type": "code",
   "execution_count": null,
   "metadata": {},
   "outputs": [],
   "source": []
  }
 ],
 "metadata": {
  "kernelspec": {
   "display_name": "R",
   "language": "R",
   "name": "ir"
  },
  "language_info": {
   "codemirror_mode": "r",
   "file_extension": ".r",
   "mimetype": "text/x-r-source",
   "name": "R",
   "pygments_lexer": "r",
   "version": "3.3.2"
  }
 },
 "nbformat": 4,
 "nbformat_minor": 2
}
